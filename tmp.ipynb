{
 "cells": [
  {
   "cell_type": "code",
   "execution_count": 4,
   "metadata": {
    "ExecuteTime": {
     "end_time": "2020-11-19T02:44:56.229790Z",
     "start_time": "2020-11-19T02:44:56.223806Z"
    }
   },
   "outputs": [],
   "source": [
    "import pandas as pd \n",
    "from urllib.request import urlopen\n",
    "from bs4 import BeautifulSoup "
   ]
  },
  {
   "cell_type": "code",
   "execution_count": 6,
   "metadata": {
    "ExecuteTime": {
     "end_time": "2020-11-19T02:48:45.467132Z",
     "start_time": "2020-11-19T02:48:40.552957Z"
    }
   },
   "outputs": [],
   "source": [
    "from selenium import webdriver\n",
    "driver = webdriver.Chrome(\"C:/Users/Sung/Downloads/chromedriver.exe\")\n",
    "driver.get(\"http://www.opinet.co.kr\") # 오피넷 접속 "
   ]
  },
  {
   "cell_type": "code",
   "execution_count": 7,
   "metadata": {
    "ExecuteTime": {
     "end_time": "2020-11-19T02:48:51.902237Z",
     "start_time": "2020-11-19T02:48:49.079306Z"
    }
   },
   "outputs": [],
   "source": [
    "driver.get(\"http://www.opinet.co.kr/user/dopdavcow/dopAvcowSelect.do\") # 오피넷 접속 "
   ]
  },
  {
   "cell_type": "code",
   "execution_count": 76,
   "metadata": {
    "ExecuteTime": {
     "end_time": "2020-11-19T03:17:07.278653Z",
     "start_time": "2020-11-19T03:17:07.271670Z"
    }
   },
   "outputs": [],
   "source": [
    "# 전체 html source \n",
    "\n",
    "# element = driver.find_element_by_css_selector('#table_form')\n",
    "# html = element.get_attribute('innerHTML')\n",
    "# soup = BeautifulSoup(html, 'html.parser')\n",
    "# soup # 전체 source "
   ]
  },
  {
   "cell_type": "code",
   "execution_count": null,
   "metadata": {},
   "outputs": [],
   "source": [
    "def info(selector):\n",
    "    element = driver.find_element_by_css_selector(selector)\n",
    "    html = element.get_attribute(\"innerHTML\")\n",
    "    soup = BeautifulSoup(html,'html.parser')"
   ]
  },
  {
   "cell_type": "code",
   "execution_count": 109,
   "metadata": {
    "ExecuteTime": {
     "end_time": "2020-11-19T03:35:31.587350Z",
     "start_time": "2020-11-19T03:35:31.502917Z"
    }
   },
   "outputs": [
    {
     "name": "stdout",
     "output_type": "stream",
     "text": [
      "2020\n",
      "11\n",
      "1\n",
      "2020-11-1\n"
     ]
    }
   ],
   "source": [
    "# 년, 월, 주\n",
    "#STA_Y > option:nth-child(13)\n",
    "element0_year = driver.find_element_by_css_selector('#END_Y > option:nth-child(13)')\n",
    "html0_year = element0_year.get_attribute(\"innerHTML\")\n",
    "soup0_year = BeautifulSoup(html0_year,'html.parser')\n",
    "\n",
    "element0_mon = driver.find_element_by_css_selector('#STA_M > option:nth-child(11)')\n",
    "html0_mon = element0_mon.get_attribute(\"innerHTML\")\n",
    "soup0_mon = BeautifulSoup(html0_mon,'html.parser')\n",
    "\n",
    "element0_week = driver.find_element_by_css_selector('#END_W > option:nth-child(1)')\n",
    "html0_week = element0_week.get_attribute(\"innerHTML\")\n",
    "soup0_week = BeautifulSoup(html0_week,'html.parser')\n",
    "\n",
    "print(soup0_year)\n",
    "print(soup0_mon)\n",
    "print(soup0_week)"
   ]
  },
  {
   "cell_type": "code",
   "execution_count": 136,
   "metadata": {
    "ExecuteTime": {
     "end_time": "2020-11-19T03:46:28.497706Z",
     "start_time": "2020-11-19T03:46:28.478756Z"
    }
   },
   "outputs": [
    {
     "data": {
      "text/html": [
       "<div>\n",
       "<style scoped>\n",
       "    .dataframe tbody tr th:only-of-type {\n",
       "        vertical-align: middle;\n",
       "    }\n",
       "\n",
       "    .dataframe tbody tr th {\n",
       "        vertical-align: top;\n",
       "    }\n",
       "\n",
       "    .dataframe thead th {\n",
       "        text-align: right;\n",
       "    }\n",
       "</style>\n",
       "<table border=\"1\" class=\"dataframe\">\n",
       "  <thead>\n",
       "    <tr style=\"text-align: right;\">\n",
       "      <th></th>\n",
       "      <th>year</th>\n",
       "      <th>mon</th>\n",
       "      <th>week</th>\n",
       "    </tr>\n",
       "  </thead>\n",
       "  <tbody>\n",
       "    <tr>\n",
       "      <th>0</th>\n",
       "      <td>2020</td>\n",
       "      <td>11</td>\n",
       "      <td>1</td>\n",
       "    </tr>\n",
       "  </tbody>\n",
       "</table>\n",
       "</div>"
      ],
      "text/plain": [
       "   year mon week\n",
       "0  2020  11    1"
      ]
     },
     "execution_count": 136,
     "metadata": {},
     "output_type": "execute_result"
    }
   ],
   "source": [
    "# oil_date = str(soup0_year) + '-' + str(soup0_mon) + '-' + str(soup0_week)\n",
    "oil_date = {'year': str(soup0_year),\n",
    "            'mon' : str(soup0_mon),\n",
    "            'week' : str(soup0_week)}\n",
    "oil_date = pd.DataFrame(oil_date, index = [0])\n",
    "oil_date"
   ]
  },
  {
   "cell_type": "code",
   "execution_count": 128,
   "metadata": {
    "ExecuteTime": {
     "end_time": "2020-11-19T03:44:42.059827Z",
     "start_time": "2020-11-19T03:44:42.005971Z"
    }
   },
   "outputs": [],
   "source": [
    "# collumn name  // headers \n",
    "element1 = driver.find_element_by_css_selector('#table_form > div > table > thead > tr ')\n",
    "html1 = element1.get_attribute('innerHTML')\n",
    "soup1 = BeautifulSoup(html1, 'html.parser')\n",
    "headers = [c.get_text() for c in soup1.find_all('th')[1:5]]\n",
    "\n",
    "# data (공급 평균 가)\n",
    "element2 = driver.find_element_by_css_selector('#numbox > tr:nth-child(13)')\n",
    "html2 = element2.get_attribute('innerHTML')\n",
    "soup2 = BeautifulSoup(html2, 'html.parser')\n",
    "data = [c.get_text() for c in soup2.find_all('td')[1:5]]\n",
    "data = pd.DataFrame(data).T\n",
    "data.columns= headers"
   ]
  },
  {
   "cell_type": "code",
   "execution_count": 138,
   "metadata": {
    "ExecuteTime": {
     "end_time": "2020-11-19T03:47:29.114399Z",
     "start_time": "2020-11-19T03:47:29.107453Z"
    }
   },
   "outputs": [],
   "source": [
    "data = data.reset_index(drop=True)\n",
    "oil_date = oil_date.reset_index(drop=True)"
   ]
  },
  {
   "cell_type": "code",
   "execution_count": 148,
   "metadata": {
    "ExecuteTime": {
     "end_time": "2020-11-19T03:50:25.814556Z",
     "start_time": "2020-11-19T03:50:25.802560Z"
    }
   },
   "outputs": [],
   "source": [
    "oil = pd.concat([oil_date, data], ignore_index = True, axis =1)\n",
    "oil.columns = [\"year\",\"mon\",\"week\",\"b034price\",\"b027price\",\"d047price\",\"c004price\"]"
   ]
  },
  {
   "cell_type": "code",
   "execution_count": 149,
   "metadata": {
    "ExecuteTime": {
     "end_time": "2020-11-19T03:50:31.298749Z",
     "start_time": "2020-11-19T03:50:31.283760Z"
    }
   },
   "outputs": [
    {
     "data": {
      "text/html": [
       "<div>\n",
       "<style scoped>\n",
       "    .dataframe tbody tr th:only-of-type {\n",
       "        vertical-align: middle;\n",
       "    }\n",
       "\n",
       "    .dataframe tbody tr th {\n",
       "        vertical-align: top;\n",
       "    }\n",
       "\n",
       "    .dataframe thead th {\n",
       "        text-align: right;\n",
       "    }\n",
       "</style>\n",
       "<table border=\"1\" class=\"dataframe\">\n",
       "  <thead>\n",
       "    <tr style=\"text-align: right;\">\n",
       "      <th></th>\n",
       "      <th>year</th>\n",
       "      <th>mon</th>\n",
       "      <th>week</th>\n",
       "      <th>b034price</th>\n",
       "      <th>b027price</th>\n",
       "      <th>d047price</th>\n",
       "      <th>c004price</th>\n",
       "    </tr>\n",
       "  </thead>\n",
       "  <tbody>\n",
       "    <tr>\n",
       "      <th>0</th>\n",
       "      <td>2020</td>\n",
       "      <td>11</td>\n",
       "      <td>1</td>\n",
       "      <td>1,446.49</td>\n",
       "      <td>1,249.78</td>\n",
       "      <td>1,034.81</td>\n",
       "      <td>526.02</td>\n",
       "    </tr>\n",
       "  </tbody>\n",
       "</table>\n",
       "</div>"
      ],
      "text/plain": [
       "   year mon week b034price b027price d047price c004price\n",
       "0  2020  11    1  1,446.49  1,249.78  1,034.81    526.02"
      ]
     },
     "execution_count": 149,
     "metadata": {},
     "output_type": "execute_result"
    }
   ],
   "source": [
    "oil"
   ]
  }
 ],
 "metadata": {
  "kernelspec": {
   "display_name": "Python 3",
   "language": "python",
   "name": "python3"
  },
  "language_info": {
   "codemirror_mode": {
    "name": "ipython",
    "version": 3
   },
   "file_extension": ".py",
   "mimetype": "text/x-python",
   "name": "python",
   "nbconvert_exporter": "python",
   "pygments_lexer": "ipython3",
   "version": "3.8.0"
  },
  "toc": {
   "base_numbering": 1,
   "nav_menu": {},
   "number_sections": true,
   "sideBar": true,
   "skip_h1_title": false,
   "title_cell": "Table of Contents",
   "title_sidebar": "Contents",
   "toc_cell": false,
   "toc_position": {},
   "toc_section_display": true,
   "toc_window_display": false
  },
  "varInspector": {
   "cols": {
    "lenName": 16,
    "lenType": 16,
    "lenVar": 40
   },
   "kernels_config": {
    "python": {
     "delete_cmd_postfix": "",
     "delete_cmd_prefix": "del ",
     "library": "var_list.py",
     "varRefreshCmd": "print(var_dic_list())"
    },
    "r": {
     "delete_cmd_postfix": ") ",
     "delete_cmd_prefix": "rm(",
     "library": "var_list.r",
     "varRefreshCmd": "cat(var_dic_list()) "
    }
   },
   "types_to_exclude": [
    "module",
    "function",
    "builtin_function_or_method",
    "instance",
    "_Feature"
   ],
   "window_display": false
  }
 },
 "nbformat": 4,
 "nbformat_minor": 4
}
