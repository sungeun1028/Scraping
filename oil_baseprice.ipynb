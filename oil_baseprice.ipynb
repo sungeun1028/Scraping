{
 "cells": [
  {
   "cell_type": "code",
   "execution_count": 4,
   "metadata": {
    "ExecuteTime": {
     "end_time": "2020-11-19T02:44:56.229790Z",
     "start_time": "2020-11-19T02:44:56.223806Z"
    }
   },
   "outputs": [],
   "source": [
    "import pandas as pd \n",
    "from urllib.request import urlopen\n",
    "from bs4 import BeautifulSoup "
   ]
  },
  {
   "cell_type": "code",
   "execution_count": 6,
   "metadata": {
    "ExecuteTime": {
     "end_time": "2020-11-19T02:48:45.467132Z",
     "start_time": "2020-11-19T02:48:40.552957Z"
    }
   },
   "outputs": [],
   "source": [
    "from selenium import webdriver\n",
    "driver = webdriver.Chrome(\"C:/Users/Sung/Downloads/chromedriver.exe\")\n",
    "driver.get(\"http://www.opinet.co.kr\") # 오피넷 접속 \n",
    "driver.get(\"http://www.opinet.co.kr/user/dopdavcow/dopAvcowSelect.do\") # 오피넷 접속 "
   ]
  },
  {
   "cell_type": "code",
   "execution_count": 158,
   "metadata": {
    "ExecuteTime": {
     "end_time": "2020-11-19T03:58:48.578951Z",
     "start_time": "2020-11-19T03:58:48.563991Z"
    }
   },
   "outputs": [],
   "source": [
    "def info(selector):\n",
    "    element = driver.find_element_by_css_selector(selector)\n",
    "    html = element.get_attribute(\"innerHTML\")\n",
    "    soup = BeautifulSoup(html,'html.parser')\n",
    "    return soup "
   ]
  },
  {
   "cell_type": "code",
   "execution_count": 159,
   "metadata": {
    "ExecuteTime": {
     "end_time": "2020-11-19T03:58:49.208933Z",
     "start_time": "2020-11-19T03:58:49.122132Z"
    }
   },
   "outputs": [],
   "source": [
    "# year, mon, week \n",
    "soup0_year = info('#END_Y > option:nth-child(13)')\n",
    "soup0_mon = info('#STA_M > option:nth-child(11)')\n",
    "soup0_week = info('#END_W > option:nth-child(1)')\n",
    "\n",
    "oil_date = {'year': str(soup0_year),\n",
    "            'mon' : str(soup0_mon),\n",
    "            'week' : str(soup0_week)}\n",
    "oil_date = pd.DataFrame(oil_date, index = [0])"
   ]
  },
  {
   "cell_type": "code",
   "execution_count": 160,
   "metadata": {
    "ExecuteTime": {
     "end_time": "2020-11-19T03:58:49.664306Z",
     "start_time": "2020-11-19T03:58:49.622075Z"
    }
   },
   "outputs": [],
   "source": [
    "# data (공급 평균 가)\n",
    "soup_data = info('#numbox > tr:nth-child(13)')\n",
    "data = [c.get_text() for c in soup2.find_all('td')[1:5]]\n",
    "data = pd.DataFrame(data).T"
   ]
  },
  {
   "cell_type": "code",
   "execution_count": 161,
   "metadata": {
    "ExecuteTime": {
     "end_time": "2020-11-19T03:58:50.181201Z",
     "start_time": "2020-11-19T03:58:50.169226Z"
    }
   },
   "outputs": [],
   "source": [
    "# merge \n",
    "oil = pd.concat([oil_date, data], ignore_index = True, axis =1)b\n",
    "oil.columns = [\"year\",\"mon\",\"week\",\"b034price\",\"b027price\",\"d047price\",\"c004price\"]"
   ]
  },
  {
   "cell_type": "code",
   "execution_count": 162,
   "metadata": {
    "ExecuteTime": {
     "end_time": "2020-11-19T03:58:55.337669Z",
     "start_time": "2020-11-19T03:58:55.317722Z"
    }
   },
   "outputs": [
    {
     "data": {
      "text/html": [
       "<div>\n",
       "<style scoped>\n",
       "    .dataframe tbody tr th:only-of-type {\n",
       "        vertical-align: middle;\n",
       "    }\n",
       "\n",
       "    .dataframe tbody tr th {\n",
       "        vertical-align: top;\n",
       "    }\n",
       "\n",
       "    .dataframe thead th {\n",
       "        text-align: right;\n",
       "    }\n",
       "</style>\n",
       "<table border=\"1\" class=\"dataframe\">\n",
       "  <thead>\n",
       "    <tr style=\"text-align: right;\">\n",
       "      <th></th>\n",
       "      <th>year</th>\n",
       "      <th>mon</th>\n",
       "      <th>week</th>\n",
       "      <th>b034price</th>\n",
       "      <th>b027price</th>\n",
       "      <th>d047price</th>\n",
       "      <th>c004price</th>\n",
       "    </tr>\n",
       "  </thead>\n",
       "  <tbody>\n",
       "    <tr>\n",
       "      <th>0</th>\n",
       "      <td>2020</td>\n",
       "      <td>11</td>\n",
       "      <td>1</td>\n",
       "      <td>1,446.49</td>\n",
       "      <td>1,249.78</td>\n",
       "      <td>1,034.81</td>\n",
       "      <td>526.02</td>\n",
       "    </tr>\n",
       "  </tbody>\n",
       "</table>\n",
       "</div>"
      ],
      "text/plain": [
       "   year mon week b034price b027price d047price c004price\n",
       "0  2020  11    1  1,446.49  1,249.78  1,034.81    526.02"
      ]
     },
     "execution_count": 162,
     "metadata": {},
     "output_type": "execute_result"
    }
   ],
   "source": [
    "oil"
   ]
  }
 ],
 "metadata": {
  "kernelspec": {
   "display_name": "Python 3",
   "language": "python",
   "name": "python3"
  },
  "language_info": {
   "codemirror_mode": {
    "name": "ipython",
    "version": 3
   },
   "file_extension": ".py",
   "mimetype": "text/x-python",
   "name": "python",
   "nbconvert_exporter": "python",
   "pygments_lexer": "ipython3",
   "version": "3.8.0"
  },
  "toc": {
   "base_numbering": 1,
   "nav_menu": {},
   "number_sections": true,
   "sideBar": true,
   "skip_h1_title": false,
   "title_cell": "Table of Contents",
   "title_sidebar": "Contents",
   "toc_cell": false,
   "toc_position": {},
   "toc_section_display": true,
   "toc_window_display": false
  },
  "varInspector": {
   "cols": {
    "lenName": 16,
    "lenType": 16,
    "lenVar": 40
   },
   "kernels_config": {
    "python": {
     "delete_cmd_postfix": "",
     "delete_cmd_prefix": "del ",
     "library": "var_list.py",
     "varRefreshCmd": "print(var_dic_list())"
    },
    "r": {
     "delete_cmd_postfix": ") ",
     "delete_cmd_prefix": "rm(",
     "library": "var_list.r",
     "varRefreshCmd": "cat(var_dic_list()) "
    }
   },
   "types_to_exclude": [
    "module",
    "function",
    "builtin_function_or_method",
    "instance",
    "_Feature"
   ],
   "window_display": false
  }
 },
 "nbformat": 4,
 "nbformat_minor": 4
}
